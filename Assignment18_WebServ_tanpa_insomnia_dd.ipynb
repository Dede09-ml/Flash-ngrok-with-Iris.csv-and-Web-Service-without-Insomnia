{
  "nbformat": 4,
  "nbformat_minor": 0,
  "metadata": {
    "colab": {
      "name": "Assignment18_WebServ_tanpa_insomnia_dd.ipynb",
      "provenance": [],
      "collapsed_sections": []
    },
    "kernelspec": {
      "name": "python3",
      "display_name": "Python 3"
    }
  },
  "cells": [
    {
      "cell_type": "code",
      "metadata": {
        "id": "7saBdFu7m_jx"
      },
      "source": [
        "#Panggil web service langsung tanpa Insomnia\n",
        "import requests\n",
        "import json"
      ],
      "execution_count": null,
      "outputs": []
    },
    {
      "cell_type": "code",
      "metadata": {
        "id": "LnAUSsRnnGIq"
      },
      "source": [
        "url = 'http://68ee08379e3d.ngrok.io/classify'\n",
        "\n",
        "data = {\n",
        "\t\"sepal_width\": 5.1,\n",
        "\t\"sepal_length\": 3.5,\n",
        "\t\"petal_width\": 1.4,\n",
        "\t\"petal_length\": 0.2\n",
        "}\n",
        "\n",
        "json_response = requests.post(url,  json=data)\n",
        "json_response\n",
        "response = json.loads(json_response.text)"
      ],
      "execution_count": null,
      "outputs": []
    },
    {
      "cell_type": "code",
      "metadata": {
        "id": "AyDfOZt5nIN5",
        "outputId": "22a16816-f84c-4af3-aa63-be487a365258",
        "colab": {
          "base_uri": "https://localhost:8080/",
          "height": 34
        }
      },
      "source": [
        "response['output']"
      ],
      "execution_count": null,
      "outputs": [
        {
          "output_type": "execute_result",
          "data": {
            "application/vnd.google.colaboratory.intrinsic+json": {
              "type": "string"
            },
            "text/plain": [
              "'Iris-setosa'"
            ]
          },
          "metadata": {
            "tags": []
          },
          "execution_count": 13
        }
      ]
    }
  ]
}